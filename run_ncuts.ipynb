{
 "cells": [
  {
   "cell_type": "code",
   "execution_count": 2,
   "metadata": {},
   "outputs": [],
   "source": [
    "import open3d as o3d\n",
    "import os\n",
    "from normalized_cut import ncuts_chunk"
   ]
  },
  {
   "cell_type": "code",
   "execution_count": 3,
   "metadata": {},
   "outputs": [],
   "source": [
    "config_spatial = {\n",
    "    \"alpha\": 1.0,\n",
    "    \"T\": 0.075, #ncuts threshold -> higher threshold = more recursive calls -> more cuts\n",
    "}\n",
    "input_folder = 'pcds_store/'\n",
    "out_folder = 'out_pdcs/'\n",
    "if os.path.exists(out_folder) == False :\n",
    "    os.makedirs(out_folder)"
   ]
  },
  {
   "cell_type": "code",
   "execution_count": 4,
   "metadata": {},
   "outputs": [
    {
     "name": "stdout",
     "output_type": "stream",
     "text": [
      "Adjacency Matrix built\n",
      "0 isolated points removed\n",
      "There are 50 cut regions\n",
      "\u001b[1;33m[Open3D WARNING] GLFW Error: Cocoa: Failed to find service port for display\u001b[0;m\n",
      "\u001b[1;33m[Open3D WARNING] GLFW Error: Cocoa: Failed to find service port for display\u001b[0;m\n",
      "Adjacency Matrix built\n",
      "0 isolated points removed\n"
     ]
    }
   ],
   "source": [
    "for i in range(2):\n",
    "    chunk_non_ground = o3d.io.read_point_cloud(f'{input_folder}non_ground{i}.pcd')\n",
    "    chunk_ground = o3d.io.read_point_cloud(f'{input_folder}ground{i}.pcd').paint_uniform_color([0,0,0])\n",
    "    chunk_major = o3d.io.read_point_cloud(f'{input_folder}chunk_major{i}.pcd')\n",
    "    ncuts_out = ncuts_chunk(chunk_non_ground,chunk_ground,chunk_major,ncuts_threshold=config_spatial['T'],alpha=config_spatial['alpha'])\n",
    "    o3d.io.write_point_cloud(f'{out_folder}/chunk_{i}.pcd',ncuts_out)\n",
    "    try :\n",
    "    \to3d.visualization.draw_geometries([ncuts_out])\n",
    "    except : \n",
    "        print(\"No display available, only storing the output\")"
   ]
  }
 ],
 "metadata": {
  "kernelspec": {
   "display_name": "Python 3 (ipykernel)",
   "language": "python",
   "name": "python3"
  },
  "language_info": {
   "codemirror_mode": {
    "name": "ipython",
    "version": 3
   },
   "file_extension": ".py",
   "mimetype": "text/x-python",
   "name": "python",
   "nbconvert_exporter": "python",
   "pygments_lexer": "ipython3",
   "version": "3.10.4"
  }
 },
 "nbformat": 4,
 "nbformat_minor": 2
}
